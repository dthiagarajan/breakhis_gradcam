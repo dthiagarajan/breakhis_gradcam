{
 "cells": [
  {
   "cell_type": "markdown",
   "metadata": {},
   "source": [
    "# BreaKHis Classification with GradCAM\n",
    "\n",
    "> Fine-tuning classification networks and using GradCAM to obtain object detection results on histopathological slides of breast cancer."
   ]
  },
  {
   "cell_type": "markdown",
   "metadata": {},
   "source": [
    "## Install"
   ]
  },
  {
   "cell_type": "markdown",
   "metadata": {},
   "source": [
    "`pip install breakhis_gradcam`"
   ]
  },
  {
   "cell_type": "markdown",
   "metadata": {},
   "source": [
    "## Later\n",
    "\n",
    "* Examples of how to use this package\n",
    "* Using some form of unsupervised bounding box detection (e.g. attention cropping) to pull bounding box predictions\n",
    "    * This is probably more reasonable to do with a dataset that has these labels, as more training can be done to get better bounding box predictions\n",
    "* Using a variant of the SimCLR framework to fine-tune the trained models based on similarity between detected regions of slides within the same subclass\n",
    "\n"
   ]
  },
  {
   "cell_type": "markdown",
   "metadata": {},
   "source": [
    "## Contact\n",
    "\n",
    "dt372@cornell.edu"
   ]
  },
  {
   "cell_type": "code",
   "execution_count": null,
   "metadata": {},
   "outputs": [],
   "source": []
  }
 ],
 "metadata": {
  "kernelspec": {
   "display_name": "Python 3",
   "language": "python",
   "name": "python3"
  },
  "language_info": {
   "codemirror_mode": {
    "name": "ipython",
    "version": 3
   },
   "file_extension": ".py",
   "mimetype": "text/x-python",
   "name": "python",
   "nbconvert_exporter": "python",
   "pygments_lexer": "ipython3",
   "version": "3.6.3"
  }
 },
 "nbformat": 4,
 "nbformat_minor": 2
}
